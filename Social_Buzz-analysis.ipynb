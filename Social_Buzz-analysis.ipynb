{
 "cells": [
  {
   "cell_type": "markdown",
   "id": "fa2ddaa4",
   "metadata": {},
   "source": [
    "# Data Analysis for Social Buzz\n",
    "\n",
    "In this work, we focus on a small dataset extracted from a large enterprise data set. The company has a platform that collects users' comments and reactions to celebrity-related events. The platform focuses on content by preserving the anonymity of all users and only tracking user reactions to each piece of content. Users can react to content in over 100 different ways, beyond the traditional ‘like’ and comment reactions.\n",
    "\n",
    "Here we try to analyse the top 5 most popular categories of content."
   ]
  },
  {
   "cell_type": "code",
   "execution_count": 1,
   "id": "59c51ab7",
   "metadata": {},
   "outputs": [],
   "source": [
    "# Importing librairies \n",
    "\n",
    "import pandas as pd\n",
    "import numpy as np\n",
    "import matplotlib.pyplot as plt\n",
    "import matplotlib.dates as mdates\n",
    "from matplotlib.dates import DateFormatter\n",
    "import seaborn as sb\n",
    "import re \n",
    "\n",
    "%matplotlib inline"
   ]
  },
  {
   "cell_type": "code",
   "execution_count": 2,
   "id": "350abe3d",
   "metadata": {},
   "outputs": [],
   "source": [
    "# Load the content dataset\n",
    "df_content = pd.read_csv(\"Data/FinalContentDataset.csv\")"
   ]
  },
  {
   "cell_type": "code",
   "execution_count": 3,
   "id": "816a7c51",
   "metadata": {},
   "outputs": [
    {
     "data": {
      "text/html": [
       "<div>\n",
       "<style scoped>\n",
       "    .dataframe tbody tr th:only-of-type {\n",
       "        vertical-align: middle;\n",
       "    }\n",
       "\n",
       "    .dataframe tbody tr th {\n",
       "        vertical-align: top;\n",
       "    }\n",
       "\n",
       "    .dataframe thead th {\n",
       "        text-align: right;\n",
       "    }\n",
       "</style>\n",
       "<table border=\"1\" class=\"dataframe\">\n",
       "  <thead>\n",
       "    <tr style=\"text-align: right;\">\n",
       "      <th></th>\n",
       "      <th>Unnamed: 0</th>\n",
       "      <th>Content ID</th>\n",
       "      <th>Reaction Type</th>\n",
       "      <th>Datetime</th>\n",
       "      <th>Content Type</th>\n",
       "      <th>Category</th>\n",
       "      <th>Sentiment</th>\n",
       "      <th>Score</th>\n",
       "    </tr>\n",
       "  </thead>\n",
       "  <tbody>\n",
       "    <tr>\n",
       "      <th>0</th>\n",
       "      <td>0</td>\n",
       "      <td>97522e57-d9ab-4bd6-97bf-c24d952602d2</td>\n",
       "      <td>disgust</td>\n",
       "      <td>7/11/20 9:43</td>\n",
       "      <td>photo</td>\n",
       "      <td>studying</td>\n",
       "      <td>negative</td>\n",
       "      <td>0</td>\n",
       "    </tr>\n",
       "    <tr>\n",
       "      <th>1</th>\n",
       "      <td>1</td>\n",
       "      <td>97522e57-d9ab-4bd6-97bf-c24d952602d2</td>\n",
       "      <td>dislike</td>\n",
       "      <td>17/6/21 12:22</td>\n",
       "      <td>photo</td>\n",
       "      <td>studying</td>\n",
       "      <td>negative</td>\n",
       "      <td>10</td>\n",
       "    </tr>\n",
       "    <tr>\n",
       "      <th>2</th>\n",
       "      <td>2</td>\n",
       "      <td>97522e57-d9ab-4bd6-97bf-c24d952602d2</td>\n",
       "      <td>scared</td>\n",
       "      <td>18/4/21 5:13</td>\n",
       "      <td>photo</td>\n",
       "      <td>studying</td>\n",
       "      <td>negative</td>\n",
       "      <td>15</td>\n",
       "    </tr>\n",
       "    <tr>\n",
       "      <th>3</th>\n",
       "      <td>3</td>\n",
       "      <td>97522e57-d9ab-4bd6-97bf-c24d952602d2</td>\n",
       "      <td>disgust</td>\n",
       "      <td>6/1/21 19:13</td>\n",
       "      <td>photo</td>\n",
       "      <td>studying</td>\n",
       "      <td>negative</td>\n",
       "      <td>0</td>\n",
       "    </tr>\n",
       "    <tr>\n",
       "      <th>4</th>\n",
       "      <td>4</td>\n",
       "      <td>97522e57-d9ab-4bd6-97bf-c24d952602d2</td>\n",
       "      <td>interested</td>\n",
       "      <td>23/8/20 12:25</td>\n",
       "      <td>photo</td>\n",
       "      <td>studying</td>\n",
       "      <td>positive</td>\n",
       "      <td>30</td>\n",
       "    </tr>\n",
       "  </tbody>\n",
       "</table>\n",
       "</div>"
      ],
      "text/plain": [
       "   Unnamed: 0                            Content ID Reaction Type  \\\n",
       "0           0  97522e57-d9ab-4bd6-97bf-c24d952602d2       disgust   \n",
       "1           1  97522e57-d9ab-4bd6-97bf-c24d952602d2       dislike   \n",
       "2           2  97522e57-d9ab-4bd6-97bf-c24d952602d2        scared   \n",
       "3           3  97522e57-d9ab-4bd6-97bf-c24d952602d2       disgust   \n",
       "4           4  97522e57-d9ab-4bd6-97bf-c24d952602d2    interested   \n",
       "\n",
       "        Datetime Content Type  Category Sentiment  Score  \n",
       "0   7/11/20 9:43        photo  studying  negative      0  \n",
       "1  17/6/21 12:22        photo  studying  negative     10  \n",
       "2   18/4/21 5:13        photo  studying  negative     15  \n",
       "3   6/1/21 19:13        photo  studying  negative      0  \n",
       "4  23/8/20 12:25        photo  studying  positive     30  "
      ]
     },
     "execution_count": 3,
     "metadata": {},
     "output_type": "execute_result"
    }
   ],
   "source": [
    "df_content.head(5)"
   ]
  },
  {
   "cell_type": "code",
   "execution_count": 4,
   "id": "d3d81058",
   "metadata": {},
   "outputs": [
    {
     "data": {
      "text/plain": [
       "(24573, 8)"
      ]
     },
     "execution_count": 4,
     "metadata": {},
     "output_type": "execute_result"
    }
   ],
   "source": [
    "df_content.shape"
   ]
  },
  {
   "cell_type": "code",
   "execution_count": 5,
   "id": "cc14e0dd",
   "metadata": {},
   "outputs": [
    {
     "name": "stdout",
     "output_type": "stream",
     "text": [
      "<class 'pandas.core.frame.DataFrame'>\n",
      "RangeIndex: 24573 entries, 0 to 24572\n",
      "Data columns (total 8 columns):\n",
      " #   Column         Non-Null Count  Dtype \n",
      "---  ------         --------------  ----- \n",
      " 0   Unnamed: 0     24573 non-null  int64 \n",
      " 1   Content ID     24573 non-null  object\n",
      " 2   Reaction Type  24573 non-null  object\n",
      " 3   Datetime       24573 non-null  object\n",
      " 4   Content Type   24573 non-null  object\n",
      " 5   Category       24573 non-null  object\n",
      " 6   Sentiment      24573 non-null  object\n",
      " 7   Score          24573 non-null  int64 \n",
      "dtypes: int64(2), object(6)\n",
      "memory usage: 1.5+ MB\n"
     ]
    }
   ],
   "source": [
    "df_content.info()"
   ]
  },
  {
   "cell_type": "markdown",
   "id": "95c51251",
   "metadata": {},
   "source": [
    "### Data cleaning\n",
    "- Remove irrelevant column as ‘Unnamed: 0‘\n",
    "- Change the type of the coloumn ‘Datetime‘ to DataTime"
   ]
  },
  {
   "cell_type": "code",
   "execution_count": 6,
   "id": "86a9fe12",
   "metadata": {},
   "outputs": [],
   "source": [
    "# Copy of the dataset\n",
    "df_content = df_content.copy()"
   ]
  },
  {
   "cell_type": "code",
   "execution_count": 7,
   "id": "3c5fc932",
   "metadata": {},
   "outputs": [],
   "source": [
    "# Remove column ‘Unnamed: 0‘\n",
    "df_content = df_content.drop(\"Unnamed: 0\", axis = 1)"
   ]
  },
  {
   "cell_type": "code",
   "execution_count": 8,
   "id": "10fa8958",
   "metadata": {},
   "outputs": [],
   "source": [
    "# Change the type of the column Datetime to Datetime\n",
    "df_content['Datetime'] = pd.to_datetime(df_content['Datetime'])"
   ]
  },
  {
   "cell_type": "code",
   "execution_count": 9,
   "id": "d8a72cf3",
   "metadata": {},
   "outputs": [],
   "source": [
    "# Make a copy a the cleaned dataset\n",
    "df_cleaned = df_content.copy()"
   ]
  },
  {
   "cell_type": "code",
   "execution_count": 21,
   "id": "ce059136",
   "metadata": {},
   "outputs": [
    {
     "name": "stdout",
     "output_type": "stream",
     "text": [
      "<class 'pandas.core.frame.DataFrame'>\n",
      "RangeIndex: 24573 entries, 0 to 24572\n",
      "Data columns (total 7 columns):\n",
      " #   Column         Non-Null Count  Dtype         \n",
      "---  ------         --------------  -----         \n",
      " 0   Content ID     24573 non-null  object        \n",
      " 1   Reaction Type  24573 non-null  object        \n",
      " 2   Datetime       24573 non-null  datetime64[ns]\n",
      " 3   Content Type   24573 non-null  object        \n",
      " 4   Category       24573 non-null  object        \n",
      " 5   Sentiment      24573 non-null  object        \n",
      " 6   Score          24573 non-null  int64         \n",
      "dtypes: datetime64[ns](1), int64(1), object(5)\n",
      "memory usage: 1.3+ MB\n"
     ]
    }
   ],
   "source": [
    "df_cleaned.info()"
   ]
  },
  {
   "cell_type": "markdown",
   "id": "9d95dc80",
   "metadata": {},
   "source": [
    "### Data visualisation"
   ]
  },
  {
   "cell_type": "code",
   "execution_count": 23,
   "id": "e6f25633",
   "metadata": {},
   "outputs": [
    {
     "data": {
      "text/html": [
       "<div>\n",
       "<style scoped>\n",
       "    .dataframe tbody tr th:only-of-type {\n",
       "        vertical-align: middle;\n",
       "    }\n",
       "\n",
       "    .dataframe tbody tr th {\n",
       "        vertical-align: top;\n",
       "    }\n",
       "\n",
       "    .dataframe thead th {\n",
       "        text-align: right;\n",
       "    }\n",
       "</style>\n",
       "<table border=\"1\" class=\"dataframe\">\n",
       "  <thead>\n",
       "    <tr style=\"text-align: right;\">\n",
       "      <th></th>\n",
       "      <th>Category</th>\n",
       "      <th>Total Score</th>\n",
       "    </tr>\n",
       "  </thead>\n",
       "  <tbody>\n",
       "    <tr>\n",
       "      <th>0</th>\n",
       "      <td>Animals</td>\n",
       "      <td>74965</td>\n",
       "    </tr>\n",
       "    <tr>\n",
       "      <th>9</th>\n",
       "      <td>Science</td>\n",
       "      <td>71168</td>\n",
       "    </tr>\n",
       "    <tr>\n",
       "      <th>7</th>\n",
       "      <td>Healthy eating</td>\n",
       "      <td>69339</td>\n",
       "    </tr>\n",
       "    <tr>\n",
       "      <th>12</th>\n",
       "      <td>Technology</td>\n",
       "      <td>68738</td>\n",
       "    </tr>\n",
       "    <tr>\n",
       "      <th>6</th>\n",
       "      <td>Food</td>\n",
       "      <td>66676</td>\n",
       "    </tr>\n",
       "  </tbody>\n",
       "</table>\n",
       "</div>"
      ],
      "text/plain": [
       "          Category  Total Score\n",
       "0          Animals        74965\n",
       "9          Science        71168\n",
       "7   Healthy eating        69339\n",
       "12      Technology        68738\n",
       "6             Food        66676"
      ]
     },
     "execution_count": 23,
     "metadata": {},
     "output_type": "execute_result"
    }
   ],
   "source": [
    "# Find the top 5 categories\n",
    "df_cleaned['Category'] = df_cleaned['Category'].str.capitalize()\n",
    "df_top_five = df_cleaned.groupby(['Category'])['Score'].sum().reset_index(name = 'Total Score')\n",
    "df_top_five = df_top_five.sort_values(by = 'Total Score', ascending = False)\n",
    "df_top_five = df_top_five[:5]\n",
    "df_top_five"
   ]
  },
  {
   "cell_type": "markdown",
   "id": "d009b0c3",
   "metadata": {},
   "source": [
    "#### Result :\n",
    "The top 5 categories are :\n",
    "1. Animal with a total score of 74965\n",
    "2. Science with a total score of 71168\n",
    "3. Healthy eating with a total score of 69339\n",
    "4. Technology with a total score of\t68738\n",
    "5. Food\twith a total score of 66676\n",
    "\n",
    "Now it could be nice to know the number of reactions there are to these most popular category."
   ]
  },
  {
   "cell_type": "markdown",
   "id": "f4a920a2",
   "metadata": {},
   "source": [
    "Now we try to show this on a bar chart diagram."
   ]
  },
  {
   "cell_type": "code",
   "execution_count": 24,
   "id": "3e6cd00f",
   "metadata": {},
   "outputs": [
    {
     "data": {
      "text/plain": [
       "<function matplotlib.pyplot.show(close=None, block=None)>"
      ]
     },
     "execution_count": 24,
     "metadata": {},
     "output_type": "execute_result"
    },
    {
     "data": {
      "image/png": "[encoded data removed]",
      "text/plain": [
       "<Figure size 640x480 with 1 Axes>"
      ]
     },
     "metadata": {},
     "output_type": "display_data"
    }
   ],
   "source": [
    "# Create a bar chart\n",
    "plt.bar(df_top_five['Category'], df_top_five['Total Score'])\n",
    "\n",
    "# Add labels and title\n",
    "plt.xlabel('Categories')\n",
    "plt.ylabel('Total Score')\n",
    "plt.title('Total Score by category')\n",
    "\n",
    "# Display the plot\n",
    "plt.show"
   ]
  },
  {
   "cell_type": "markdown",
   "id": "525da7a1",
   "metadata": {},
   "source": [
    "Let's plot with a pie chart."
   ]
  },
  {
   "cell_type": "code",
   "execution_count": 35,
   "id": "313aea43",
   "metadata": {},
   "outputs": [
    {
     "data": {
      "image/png": "[encoded data removed]",
      "text/plain": [
       "<Figure size 640x480 with 1 Axes>"
      ]
     },
     "metadata": {},
     "output_type": "display_data"
    }
   ],
   "source": [
    "# Creat the pie chart\n",
    "plt.pie(df_top_five['Total Score'], labels = df_top_five['Category'], autopct = '%1.1f%%')\n",
    "\n",
    "# Define label and title\n",
    "plt.title('Total Score by Category')\n",
    "\n",
    "# plot the chart\n",
    "plt.show()"
   ]
  },
  {
   "cell_type": "markdown",
   "id": "943252fc",
   "metadata": {},
   "source": [
    "Let's highlight the category with the highest score share."
   ]
  },
  {
   "cell_type": "code",
   "execution_count": 72,
   "id": "b1e834b1",
   "metadata": {},
   "outputs": [
    {
     "data": {
      "image/png": "[encoded data removed]",
      "text/plain": [
       "<Figure size 640x480 with 1 Axes>"
      ]
     },
     "metadata": {},
     "output_type": "display_data"
    }
   ],
   "source": [
    "# Fin the category with the biggest Total Score\n",
    "max_score = max(df_top_five['Total Score'])\n",
    "max_index = df_top_five['Total Score'].idxmax()\n",
    "\n",
    "# Create a list of heights to highlight the relief effect\n",
    "height = [0.1] * df_top_five.shape[0]\n",
    "height[max_index] = 0.3\n",
    "\n",
    "# Create and plot the chart\n",
    "plt.pie(df_top_five['Total Score'], labels=df_top_five['Category'], explode=height, autopct='%1.1f%%', shadow = True)\n",
    "\n",
    "plt.title('Total Score by Category')\n",
    "\n",
    "plt.show()"
   ]
  },
  {
   "cell_type": "code",
   "execution_count": 12,
   "id": "8b7d7b6e",
   "metadata": {},
   "outputs": [],
   "source": [
    "# Dataset with only the top 5 categories\n",
    "df_with_top_cat = df_cleaned.copy()\n",
    "df_with_top_cat = df_with_top_cat[df_with_top_cat['Category'].isin(['Animals', 'Science', 'Healthy eating', 'Technology', 'Food'])]"
   ]
  },
  {
   "cell_type": "code",
   "execution_count": 13,
   "id": "51bfce12",
   "metadata": {},
   "outputs": [
    {
     "data": {
      "text/html": [
       "<div>\n",
       "<style scoped>\n",
       "    .dataframe tbody tr th:only-of-type {\n",
       "        vertical-align: middle;\n",
       "    }\n",
       "\n",
       "    .dataframe tbody tr th {\n",
       "        vertical-align: top;\n",
       "    }\n",
       "\n",
       "    .dataframe thead th {\n",
       "        text-align: right;\n",
       "    }\n",
       "</style>\n",
       "<table border=\"1\" class=\"dataframe\">\n",
       "  <thead>\n",
       "    <tr style=\"text-align: right;\">\n",
       "      <th></th>\n",
       "      <th>Category</th>\n",
       "      <th>Number of reactions</th>\n",
       "    </tr>\n",
       "  </thead>\n",
       "  <tbody>\n",
       "    <tr>\n",
       "      <th>0</th>\n",
       "      <td>Animals</td>\n",
       "      <td>1897</td>\n",
       "    </tr>\n",
       "    <tr>\n",
       "      <th>3</th>\n",
       "      <td>Science</td>\n",
       "      <td>1796</td>\n",
       "    </tr>\n",
       "    <tr>\n",
       "      <th>2</th>\n",
       "      <td>Healthy eating</td>\n",
       "      <td>1717</td>\n",
       "    </tr>\n",
       "    <tr>\n",
       "      <th>1</th>\n",
       "      <td>Food</td>\n",
       "      <td>1699</td>\n",
       "    </tr>\n",
       "    <tr>\n",
       "      <th>4</th>\n",
       "      <td>Technology</td>\n",
       "      <td>1698</td>\n",
       "    </tr>\n",
       "  </tbody>\n",
       "</table>\n",
       "</div>"
      ],
      "text/plain": [
       "         Category  Number of reactions\n",
       "0         Animals                 1897\n",
       "3         Science                 1796\n",
       "2  Healthy eating                 1717\n",
       "1            Food                 1699\n",
       "4      Technology                 1698"
      ]
     },
     "execution_count": 13,
     "metadata": {},
     "output_type": "execute_result"
    }
   ],
   "source": [
    "# Check the total number of reaction for the top 5 categories\n",
    "df_with_top_cat_react = df_with_top_cat.groupby('Category')['Reaction Type'].count().reset_index(name = 'Number of reactions').sort_values(by = 'Number of reactions', ascending = False)\n",
    "df_with_top_cat_react"
   ]
  },
  {
   "cell_type": "markdown",
   "id": "b1c30f13",
   "metadata": {},
   "source": [
    "#### Interpretation \n",
    "The most popular category ‘Animals’ also has more reactions than the other categories. But we can see that the number of interactions from the ‘Food’ category is greater than that from the ‘Technology’ category, even though the ‘Technology’ category is more popular than the ‘Food’ category.\n",
    "\n",
    "\n",
    "Let's visualise a plot with 'Category', 'Total Score' and 'Number of reactions'💃\n",
    "\n"
   ]
  },
  {
   "cell_type": "code",
   "execution_count": 27,
   "id": "1b23ba8b",
   "metadata": {},
   "outputs": [
    {
     "data": {
      "text/html": [
       "<div>\n",
       "<style scoped>\n",
       "    .dataframe tbody tr th:only-of-type {\n",
       "        vertical-align: middle;\n",
       "    }\n",
       "\n",
       "    .dataframe tbody tr th {\n",
       "        vertical-align: top;\n",
       "    }\n",
       "\n",
       "    .dataframe thead th {\n",
       "        text-align: right;\n",
       "    }\n",
       "</style>\n",
       "<table border=\"1\" class=\"dataframe\">\n",
       "  <thead>\n",
       "    <tr style=\"text-align: right;\">\n",
       "      <th></th>\n",
       "      <th>Category</th>\n",
       "      <th>Total Score</th>\n",
       "      <th>Number of reactions</th>\n",
       "    </tr>\n",
       "  </thead>\n",
       "  <tbody>\n",
       "    <tr>\n",
       "      <th>0</th>\n",
       "      <td>Animals</td>\n",
       "      <td>74965</td>\n",
       "      <td>1897</td>\n",
       "    </tr>\n",
       "    <tr>\n",
       "      <th>1</th>\n",
       "      <td>Science</td>\n",
       "      <td>71168</td>\n",
       "      <td>1796</td>\n",
       "    </tr>\n",
       "    <tr>\n",
       "      <th>2</th>\n",
       "      <td>Healthy eating</td>\n",
       "      <td>69339</td>\n",
       "      <td>1717</td>\n",
       "    </tr>\n",
       "    <tr>\n",
       "      <th>3</th>\n",
       "      <td>Technology</td>\n",
       "      <td>68738</td>\n",
       "      <td>1698</td>\n",
       "    </tr>\n",
       "    <tr>\n",
       "      <th>4</th>\n",
       "      <td>Food</td>\n",
       "      <td>66676</td>\n",
       "      <td>1699</td>\n",
       "    </tr>\n",
       "  </tbody>\n",
       "</table>\n",
       "</div>"
      ],
      "text/plain": [
       "         Category  Total Score  Number of reactions\n",
       "0         Animals        74965                 1897\n",
       "1         Science        71168                 1796\n",
       "2  Healthy eating        69339                 1717\n",
       "3      Technology        68738                 1698\n",
       "4            Food        66676                 1699"
      ]
     },
     "execution_count": 27,
     "metadata": {},
     "output_type": "execute_result"
    }
   ],
   "source": [
    "# Merge the datasets df_top_five and df_with_top_cat_react\n",
    "df_five = pd.merge(df_top_five, df_with_top_cat_react, on = 'Category', how = 'inner')\n",
    "df_five"
   ]
  },
  {
   "cell_type": "code",
   "execution_count": 34,
   "id": "039e6ead",
   "metadata": {},
   "outputs": [
    {
     "data": {
      "image/png": "[encoded data removed]",
      "text/plain": [
       "<Figure size 640x480 with 1 Axes>"
      ]
     },
     "metadata": {},
     "output_type": "display_data"
    }
   ],
   "source": [
    "# Visualisation of df_five\n",
    "\n",
    "# Define the values\n",
    "x = np.arange(len(df_five['Total Score']))\n",
    "width = 0.35\n",
    "\n",
    "# Create the barchart\n",
    "plt.bar(x - width/2, df_five['Total Score'], width, label = 'Scores')\n",
    "plt.bar(x + width/2, df_five['Number of reactions'], width, label = 'Reactions')\n",
    "\n",
    "# Define labels and title\n",
    "plt.xticks(x, df_five['Category'])\n",
    "plt.xlabel('Categories')\n",
    "plt.ylabel('Valeurs')\n",
    "plt.title('Total Score and Total Reaction by category')\n",
    "plt.legend()\n",
    "\n",
    "# Show the plot\n",
    "plt.show()"
   ]
  },
  {
   "cell_type": "markdown",
   "id": "177215bc",
   "metadata": {},
   "source": [
    "Now, let's check from the initial dataset which month has the most posts. 😊"
   ]
  },
  {
   "cell_type": "code",
   "execution_count": 14,
   "id": "de41431f",
   "metadata": {},
   "outputs": [],
   "source": [
    "# Create columns month and year\n",
    "df_content_month_year = df_cleaned.copy()\n",
    "df_content_month_year['Month'] = df_content_month_year['Datetime'].dt.month\n",
    "df_content_month_year['Year'] = df_content_month_year['Datetime'].dt.year\n"
   ]
  },
  {
   "cell_type": "code",
   "execution_count": 15,
   "id": "18d96c05",
   "metadata": {},
   "outputs": [],
   "source": [
    "# Change number of the month by its respective name\n",
    "df_content_month_year['Month'] = pd.to_datetime(df_content_month_year['Month'], format='%m').dt.month_name()"
   ]
  },
  {
   "cell_type": "code",
   "execution_count": 16,
   "id": "3dab580c",
   "metadata": {},
   "outputs": [
    {
     "data": {
      "text/html": [
       "<div>\n",
       "<style scoped>\n",
       "    .dataframe tbody tr th:only-of-type {\n",
       "        vertical-align: middle;\n",
       "    }\n",
       "\n",
       "    .dataframe tbody tr th {\n",
       "        vertical-align: top;\n",
       "    }\n",
       "\n",
       "    .dataframe thead th {\n",
       "        text-align: right;\n",
       "    }\n",
       "</style>\n",
       "<table border=\"1\" class=\"dataframe\">\n",
       "  <thead>\n",
       "    <tr style=\"text-align: right;\">\n",
       "      <th></th>\n",
       "      <th>Month</th>\n",
       "      <th>Year</th>\n",
       "      <th>Total Posts</th>\n",
       "    </tr>\n",
       "  </thead>\n",
       "  <tbody>\n",
       "    <tr>\n",
       "      <th>9</th>\n",
       "      <td>January</td>\n",
       "      <td>2021</td>\n",
       "      <td>1708</td>\n",
       "    </tr>\n",
       "    <tr>\n",
       "      <th>10</th>\n",
       "      <td>July</td>\n",
       "      <td>2020</td>\n",
       "      <td>1703</td>\n",
       "    </tr>\n",
       "    <tr>\n",
       "      <th>17</th>\n",
       "      <td>May</td>\n",
       "      <td>2021</td>\n",
       "      <td>1703</td>\n",
       "    </tr>\n",
       "    <tr>\n",
       "      <th>4</th>\n",
       "      <td>December</td>\n",
       "      <td>2020</td>\n",
       "      <td>1695</td>\n",
       "    </tr>\n",
       "    <tr>\n",
       "      <th>20</th>\n",
       "      <td>October</td>\n",
       "      <td>2020</td>\n",
       "      <td>1686</td>\n",
       "    </tr>\n",
       "    <tr>\n",
       "      <th>2</th>\n",
       "      <td>August</td>\n",
       "      <td>2020</td>\n",
       "      <td>1665</td>\n",
       "    </tr>\n",
       "    <tr>\n",
       "      <th>18</th>\n",
       "      <td>November</td>\n",
       "      <td>2020</td>\n",
       "      <td>1608</td>\n",
       "    </tr>\n",
       "    <tr>\n",
       "      <th>22</th>\n",
       "      <td>September</td>\n",
       "      <td>2020</td>\n",
       "      <td>1608</td>\n",
       "    </tr>\n",
       "    <tr>\n",
       "      <th>15</th>\n",
       "      <td>March</td>\n",
       "      <td>2021</td>\n",
       "      <td>1587</td>\n",
       "    </tr>\n",
       "    <tr>\n",
       "      <th>1</th>\n",
       "      <td>April</td>\n",
       "      <td>2021</td>\n",
       "      <td>1582</td>\n",
       "    </tr>\n",
       "    <tr>\n",
       "      <th>7</th>\n",
       "      <td>February</td>\n",
       "      <td>2021</td>\n",
       "      <td>1521</td>\n",
       "    </tr>\n",
       "    <tr>\n",
       "      <th>12</th>\n",
       "      <td>June</td>\n",
       "      <td>2020</td>\n",
       "      <td>1314</td>\n",
       "    </tr>\n",
       "    <tr>\n",
       "      <th>13</th>\n",
       "      <td>June</td>\n",
       "      <td>2021</td>\n",
       "      <td>754</td>\n",
       "    </tr>\n",
       "    <tr>\n",
       "      <th>19</th>\n",
       "      <td>November</td>\n",
       "      <td>2021</td>\n",
       "      <td>447</td>\n",
       "    </tr>\n",
       "    <tr>\n",
       "      <th>8</th>\n",
       "      <td>January</td>\n",
       "      <td>2020</td>\n",
       "      <td>434</td>\n",
       "    </tr>\n",
       "    <tr>\n",
       "      <th>11</th>\n",
       "      <td>July</td>\n",
       "      <td>2021</td>\n",
       "      <td>413</td>\n",
       "    </tr>\n",
       "    <tr>\n",
       "      <th>16</th>\n",
       "      <td>May</td>\n",
       "      <td>2020</td>\n",
       "      <td>407</td>\n",
       "    </tr>\n",
       "    <tr>\n",
       "      <th>5</th>\n",
       "      <td>December</td>\n",
       "      <td>2021</td>\n",
       "      <td>404</td>\n",
       "    </tr>\n",
       "    <tr>\n",
       "      <th>21</th>\n",
       "      <td>October</td>\n",
       "      <td>2021</td>\n",
       "      <td>401</td>\n",
       "    </tr>\n",
       "    <tr>\n",
       "      <th>0</th>\n",
       "      <td>April</td>\n",
       "      <td>2020</td>\n",
       "      <td>396</td>\n",
       "    </tr>\n",
       "    <tr>\n",
       "      <th>14</th>\n",
       "      <td>March</td>\n",
       "      <td>2020</td>\n",
       "      <td>395</td>\n",
       "    </tr>\n",
       "    <tr>\n",
       "      <th>3</th>\n",
       "      <td>August</td>\n",
       "      <td>2021</td>\n",
       "      <td>390</td>\n",
       "    </tr>\n",
       "    <tr>\n",
       "      <th>23</th>\n",
       "      <td>September</td>\n",
       "      <td>2021</td>\n",
       "      <td>383</td>\n",
       "    </tr>\n",
       "    <tr>\n",
       "      <th>6</th>\n",
       "      <td>February</td>\n",
       "      <td>2020</td>\n",
       "      <td>369</td>\n",
       "    </tr>\n",
       "  </tbody>\n",
       "</table>\n",
       "</div>"
      ],
      "text/plain": [
       "        Month  Year  Total Posts\n",
       "9     January  2021         1708\n",
       "10       July  2020         1703\n",
       "17        May  2021         1703\n",
       "4    December  2020         1695\n",
       "20    October  2020         1686\n",
       "2      August  2020         1665\n",
       "18   November  2020         1608\n",
       "22  September  2020         1608\n",
       "15      March  2021         1587\n",
       "1       April  2021         1582\n",
       "7    February  2021         1521\n",
       "12       June  2020         1314\n",
       "13       June  2021          754\n",
       "19   November  2021          447\n",
       "8     January  2020          434\n",
       "11       July  2021          413\n",
       "16        May  2020          407\n",
       "5    December  2021          404\n",
       "21    October  2021          401\n",
       "0       April  2020          396\n",
       "14      March  2020          395\n",
       "3      August  2021          390\n",
       "23  September  2021          383\n",
       "6    February  2020          369"
      ]
     },
     "execution_count": 16,
     "metadata": {},
     "output_type": "execute_result"
    }
   ],
   "source": [
    "#df_content_month_year.groupby(['Month'])['Year'].count().reset_index(name = \"Total Posts\")\n",
    "df_content_month_year.groupby(['Month', 'Year'])['Content ID'].count().reset_index(name = \"Total Posts\").sort_values(by = \"Total Posts\", ascending = False)"
   ]
  },
  {
   "cell_type": "markdown",
   "id": "6438fd92",
   "metadata": {},
   "source": [
    "#### Interpretation\n",
    "January 2021 has the highest number of messages, with a total of 1,705."
   ]
  },
  {
   "cell_type": "code",
   "execution_count": null,
   "id": "51f8597f",
   "metadata": {},
   "outputs": [],
   "source": []
  }
 ],
 "metadata": {
  "kernelspec": {
   "display_name": "Python 3 (ipykernel)",
   "language": "python",
   "name": "python3"
  },
  "language_info": {
   "codemirror_mode": {
    "name": "ipython",
    "version": 3
   },
   "file_extension": ".py",
   "mimetype": "text/x-python",
   "name": "python",
   "nbconvert_exporter": "python",
   "pygments_lexer": "ipython3",
   "version": "3.11.4"
  }
 },
 "nbformat": 4,
 "nbformat_minor": 5
}
